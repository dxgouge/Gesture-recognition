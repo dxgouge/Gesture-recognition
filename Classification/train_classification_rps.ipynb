{
 "cells": [
  {
   "cell_type": "code",
   "execution_count": null,
   "id": "fb805b80",
   "metadata": {},
   "outputs": [],
   "source": [
    "from ultralytics import YOLO\n",
    "import os"
   ]
  },
  {
   "cell_type": "code",
   "execution_count": null,
   "id": "2be7cf98",
   "metadata": {
    "lines_to_next_cell": 1
   },
   "outputs": [],
   "source": [
    "def create_dataset_config():\n",
    "    \"\"\"Create dataset configuration for Rock-Paper-Scissors classification.\"\"\"\n",
    "    dataset_config = \"\"\"\n",
    "# Rock-Paper-Scissors Dataset Configuration\n",
    "path: ./archive (1)/Rock-Paper-Scissors/Rock-Paper-Scissors  # dataset root dir\n",
    "train: train  # train images (relative to 'path')\n",
    "val: validation  # val images (relative to 'path')\n",
    "\n",
    "# Classes\n",
    "names:\n",
    "  0: paper\n",
    "  1: rock\n",
    "  2: scissors\n",
    "\"\"\"\n",
    "\n",
    "    # Write dataset.yaml file\n",
    "    yaml_path = os.path.join(os.path.dirname(__file__), 'dataset.yaml')\n",
    "    with open(yaml_path, 'w') as f:\n",
    "        f.write(dataset_config)\n",
    "\n",
    "    print(f\"Dataset configuration created at: {yaml_path}\")\n",
    "    return yaml_path"
   ]
  },
  {
   "cell_type": "code",
   "execution_count": null,
   "id": "b9c6636e",
   "metadata": {
    "lines_to_next_cell": 1
   },
   "outputs": [],
   "source": [
    "def train_model():\n",
    "    \"\"\"Train the YOLO model for rock-paper-scissors classification.\"\"\"\n",
    "    # Load a pre-trained YOLO model for classification\n",
    "    print(\"Loading YOLO model...\")\n",
    "    model = YOLO('yolo11n-cls.pt')  # Use classification model\n",
    "    print(\"Model loaded successfully!\")\n",
    "\n",
    "    # Train the model\n",
    "    print(\"Starting training...\")\n",
    "    results = model.train(\n",
    "        data=os.path.join(os.path.dirname(os.path.dirname(__file__)), 'archive (1)', 'Rock-Paper-Scissors', 'Rock-Paper-Scissors'),\n",
    "        epochs=10,  # Number of training epochs\n",
    "        imgsz=224,  # Image size\n",
    "        batch=8,    # Reduced batch size for stability\n",
    "        device='cuda',  # Use GPU for faster training\n",
    "        project=os.path.join(os.path.dirname(__file__), 'rps_training'),\n",
    "        name='rock_paper_scissors_robust',\n",
    "        val=True,   # Enable validation\n",
    "        patience=10,  # Early stopping patience\n",
    "        save_period=10,  # Save checkpoint every 10 epochs\n",
    "        workers=4,   # Reduced workers for stability\n",
    "        # Data augmentation for robustness\n",
    "        hsv_h=0.015,  # Hue variation\n",
    "        hsv_s=0.7,    # Saturation variation\n",
    "        hsv_v=0.4,    # Value/brightness variation\n",
    "        degrees=15,   # Rotation variation\n",
    "        translate=0.1, # Translation variation\n",
    "        scale=0.5,    # Scale variation\n",
    "        shear=2.0,    # Shear variation\n",
    "        perspective=0.0, # Perspective variation\n",
    "        flipud=0.0,   # Vertical flip\n",
    "        fliplr=0.5,   # Horizontal flip\n",
    "        mosaic=1.0,   # Mosaic augmentation\n",
    "        mixup=0.1,    # Mixup augmentation\n",
    "        copy_paste=0.1, # Copy-paste augmentation\n",
    "        erasing=0.4,  # Random erasing\n",
    "        auto_augment='randaugment'  # Auto augmentation\n",
    "    )\n",
    "\n",
    "    print(\"Training completed!\")\n",
    "    print(f\"Best model saved at: {results.save_dir}/weights/best.pt\")\n",
    "    return results"
   ]
  },
  {
   "cell_type": "code",
   "execution_count": null,
   "id": "e9da97bd",
   "metadata": {},
   "outputs": [],
   "source": [
    "def test_model(results):\n",
    "    \"\"\"Test the trained model on a sample image.\"\"\"\n",
    "    # Test the trained model\n",
    "    print(\"\\nTesting the trained model...\")\n",
    "    trained_model = YOLO(f'{results.save_dir}/weights/best.pt')\n",
    "\n",
    "    # Test on a sample image\n",
    "    test_image = os.path.join(os.path.dirname(os.path.dirname(__file__)), 'archive (1)', 'Rock-Paper-Scissors', 'Rock-Paper-Scissors', 'validation', 'rock', 'rock1.png')\n",
    "    test_results = trained_model.predict(source=test_image, show=True)\n",
    "    print(\"Test completed!\")"
   ]
  },
  {
   "cell_type": "code",
   "execution_count": null,
   "id": "18776cae",
   "metadata": {},
   "outputs": [],
   "source": [
    "def main():\n",
    "    \"\"\"Main function to train and test the YOLO classification model.\"\"\"\n",
    "    # Create dataset configuration\n",
    "    create_dataset_config()\n",
    "    \n",
    "    # Train the model\n",
    "    results = train_model()\n",
    "    \n",
    "    # Test the model\n",
    "    test_model(results)"
   ]
  },
  {
   "cell_type": "code",
   "execution_count": null,
   "id": "63c68193",
   "metadata": {},
   "outputs": [],
   "source": [
    "if __name__ == '__main__':\n",
    "    main()"
   ]
  }
 ],
 "metadata": {
  "jupytext": {
   "cell_metadata_filter": "-all",
   "main_language": "python",
   "notebook_metadata_filter": "-all"
  }
 },
 "nbformat": 4,
 "nbformat_minor": 5
}
