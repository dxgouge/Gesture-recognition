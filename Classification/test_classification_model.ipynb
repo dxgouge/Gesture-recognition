{
 "cells": [
  {
   "cell_type": "code",
   "execution_count": null,
   "id": "9792ed81",
   "metadata": {},
   "outputs": [],
   "source": [
    "from ultralytics import YOLO\n",
    "import os"
   ]
  },
  {
   "cell_type": "code",
   "execution_count": null,
   "id": "9417a95b",
   "metadata": {},
   "outputs": [],
   "source": [
    "def test_model(model_path, test_image):\n",
    "    \"\"\"Test the trained classification model on a sample image.\"\"\"\n",
    "    if not os.path.exists(model_path):\n",
    "        print(f\"Model not found: {model_path}\")\n",
    "        return False\n",
    "    \n",
    "    print(f\"Loading trained model from: {model_path}\")\n",
    "    model = YOLO(model_path)\n",
    "    \n",
    "    if not os.path.exists(test_image):\n",
    "        print(f\"Test image not found: {test_image}\")\n",
    "        return False\n",
    "    \n",
    "    print(f\"Testing on: {test_image}\")\n",
    "    results = model.predict(source=test_image, show=True)\n",
    "    \n",
    "    # Print the prediction\n",
    "    for result in results:\n",
    "        predicted_class = result.names[result.probs.top1]\n",
    "        confidence = result.probs.top1conf\n",
    "        print(f\"Predicted class: {predicted_class}\")\n",
    "        print(f\"Confidence: {confidence:.2f}\")\n",
    "    \n",
    "    return True"
   ]
  },
  {
   "cell_type": "code",
   "execution_count": null,
   "id": "fefee9f8",
   "metadata": {},
   "outputs": [],
   "source": [
    "def main():\n",
    "    \"\"\"Main function to test the classification model.\"\"\"\n",
    "    # Load the trained model\n",
    "    model_path = os.path.join(os.path.dirname(__file__), 'rock_paper_scissors_robust', 'weights', 'best.pt')\n",
    "    \n",
    "    # Test on a sample image\n",
    "    test_image = os.path.join(os.path.dirname(os.path.dirname(__file__)), 'archive (1)', 'Rock-Paper-Scissors', 'Rock-Paper-Scissors', 'validation', 'rock', 'rock1.png')\n",
    "    \n",
    "    test_model(model_path, test_image)"
   ]
  },
  {
   "cell_type": "code",
   "execution_count": null,
   "id": "1a02a14d",
   "metadata": {},
   "outputs": [],
   "source": [
    "if __name__ == '__main__':\n",
    "    main()"
   ]
  }
 ],
 "metadata": {
  "jupytext": {
   "cell_metadata_filter": "-all",
   "main_language": "python",
   "notebook_metadata_filter": "-all"
  }
 },
 "nbformat": 4,
 "nbformat_minor": 5
}
