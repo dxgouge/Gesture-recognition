{
 "cells": [
  {
   "cell_type": "code",
   "execution_count": null,
   "id": "f5235aba",
   "metadata": {
    "lines_to_next_cell": 0
   },
   "outputs": [],
   "source": []
  },
  {
   "cell_type": "code",
   "execution_count": null,
   "id": "eb7c24c0",
   "metadata": {},
   "outputs": [],
   "source": [
    "import cv2\n",
    "import numpy as np\n",
    "import time\n",
    "import os"
   ]
  },
  {
   "cell_type": "code",
   "execution_count": null,
   "id": "0234a600",
   "metadata": {},
   "outputs": [],
   "source": [
    "import os\n",
    "from pynput import keyboard\n",
    "import pandas as pd\n",
    "import mediapipe as mp"
   ]
  },
  {
   "cell_type": "code",
   "execution_count": null,
   "id": "ee4559ce",
   "metadata": {},
   "outputs": [],
   "source": [
    "import matplotlib.pyplot as plt"
   ]
  },
  {
   "cell_type": "code",
   "execution_count": null,
   "id": "f1f714a6",
   "metadata": {},
   "outputs": [],
   "source": [
    "csv_file = \"C:/Users/dxg45/yolofn/MPMLDATA/rps_mediapipe_landmarks_ML_data.csv\"\n",
    "columns = [\"landmark_0_x\", \"landmark_0_y\", \"landmark_1_x\", \"landmark_1_y\", \"landmark_2_x\", \"landmark_2_y\", \"landmark_3_x\", \"landmark_3_y\", \"landmark_4_x\", \"landmark_4_y\", \"landmark_5_x\", \"landmark_5_y\", \"landmark_6_x\", \"landmark_6_y\", \"landmark_7_x\", \"landmark_7_y\", \"landmark_8_x\", \"landmark_8_y\", \"landmark_9_x\", \"landmark_9_y\", \"landmark_10_x\", \"landmark_10_y\", \"landmark_11_x\", \"landmark_11_y\", \"landmark_12_x\", \"landmark_12_y\", \"landmark_13_x\", \"landmark_13_y\", \"landmark_14_x\", \"landmark_14_y\", \"landmark_15_x\", \"landmark_15_y\", \"landmark_16_x\", \"landmark_16_y\", \"landmark_17_x\", \"landmark_17_y\", \"landmark_18_x\", \"landmark_18_y\", \"landmark_19_x\", \"landmark_19_y\", \"landmark_20_x\", \"landmark_20_y\"]\n",
    "df = pd.DataFrame(columns)\n",
    "df = df.to_csv(csv_file, index=False)\n",
    "\n"
   ]
  },
  {
   "cell_type": "code",
   "execution_count": null,
   "id": "ceacc0c1",
   "metadata": {},
   "outputs": [],
   "source": []
  }
 ],
 "metadata": {
  "jupytext": {
   "cell_metadata_filter": "-all",
   "main_language": "python",
   "notebook_metadata_filter": "-all"
  },
  "language_info": {
   "name": "python"
  }
 },
 "nbformat": 4,
 "nbformat_minor": 5
}
